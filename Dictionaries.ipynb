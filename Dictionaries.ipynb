{
 "cells": [
  {
   "cell_type": "code",
   "execution_count": 2,
   "metadata": {},
   "outputs": [
    {
     "name": "stdout",
     "output_type": "stream",
     "text": [
      "green\n",
      "5\n"
     ]
    }
   ],
   "source": [
    "alien_0 = {'color': 'green','point':5}\n",
    "\n",
    "print(alien_0['color'])\n",
    "print(alien_0['point'])"
   ]
  },
  {
   "cell_type": "code",
   "execution_count": 3,
   "metadata": {},
   "outputs": [
    {
     "name": "stdout",
     "output_type": "stream",
     "text": [
      "green\n"
     ]
    }
   ],
   "source": [
    "alien_0 = {'color':'green'}\n",
    "print(alien_0['color'])"
   ]
  },
  {
   "cell_type": "code",
   "execution_count": 5,
   "metadata": {},
   "outputs": [
    {
     "name": "stdout",
     "output_type": "stream",
     "text": [
      "You just earned 5 points!\n"
     ]
    }
   ],
   "source": [
    "alien_0 = {'color':'green','points':5}\n",
    "\n",
    "new_points = alien_0['points']\n",
    "print(f\"You just earned {new_points} points!\")"
   ]
  },
  {
   "cell_type": "code",
   "execution_count": 7,
   "metadata": {},
   "outputs": [
    {
     "name": "stdout",
     "output_type": "stream",
     "text": [
      "{'color': 'green', 'points': 5}\n",
      "{'color': 'green', 'points': 5, 'x_position': 0, 'y_position': 25}\n"
     ]
    }
   ],
   "source": [
    "alien_0 = {'color':'green', 'points':5}\n",
    "print(alien_0)\n",
    "\n",
    "alien_0['x_position'] = 0\n",
    "alien_0['y_position'] = 25\n",
    "print(alien_0)"
   ]
  },
  {
   "cell_type": "code",
   "execution_count": 8,
   "metadata": {},
   "outputs": [
    {
     "name": "stdout",
     "output_type": "stream",
     "text": [
      "{'color': 'green', 'point': 5}\n"
     ]
    }
   ],
   "source": [
    "# starting with empty dictionary\n",
    "alien_0 = {}\n",
    "alien_0['color']= 'green'\n",
    "alien_0['point'] = 5\n",
    "print(alien_0)"
   ]
  },
  {
   "cell_type": "code",
   "execution_count": 10,
   "metadata": {},
   "outputs": [
    {
     "name": "stdout",
     "output_type": "stream",
     "text": [
      "The alien is green\n",
      "The alien is yellow\n"
     ]
    }
   ],
   "source": [
    "# modifying value iin a dictionary\n",
    "alien_0 = {'color':'green'}\n",
    "print(f\"The alien is {alien_0['color']}\")\n",
    "\n",
    "alien_0['color'] = 'yellow'\n",
    "print(f\"The alien is {alien_0['color']}\")\n",
    "      "
   ]
  },
  {
   "cell_type": "code",
   "execution_count": 15,
   "metadata": {},
   "outputs": [
    {
     "name": "stdout",
     "output_type": "stream",
     "text": [
      "Orginal position:0\n"
     ]
    }
   ],
   "source": [
    "alien_0 = {'x_position':0,'y_position':25,'speed':'medium'}\n",
    "print(f\"Orginal position:{alien_0['x_position']}\")"
   ]
  },
  {
   "cell_type": "code",
   "execution_count": 16,
   "metadata": {},
   "outputs": [
    {
     "name": "stdout",
     "output_type": "stream",
     "text": [
      "New position:2\n"
     ]
    }
   ],
   "source": [
    "# move the alien to right\n",
    "# determine how far to move the alien based on its current speed.\n",
    "\n",
    "if alien_0['speed']=='slow':\n",
    "    x_increment = 1\n",
    "elif alien_0['speed']=='medium':\n",
    "    x_increment = 2\n",
    "else:\n",
    "    x_increment = 3\n",
    "#     this must be false alien\n",
    "\n",
    "# the new position is the old position plus the increment.\n",
    "alien_0['x_position'] = alien_0['x_position']+ x_increment\n",
    "print(f\"New position:{alien_0['x_position']}\")"
   ]
  },
  {
   "cell_type": "code",
   "execution_count": 19,
   "metadata": {},
   "outputs": [
    {
     "name": "stdout",
     "output_type": "stream",
     "text": [
      "{'color': 'green', 'points': 5}\n",
      "{'color': 'green'}\n"
     ]
    }
   ],
   "source": [
    "# removing the key value pair\n",
    "# deleted key-value pair is removed permanently. \n",
    "\n",
    "alien_0 = {'color':'green','points':5}\n",
    "print(alien_0)\n",
    "\n",
    "del alien_0['points']\n",
    "print(alien_0)"
   ]
  },
  {
   "cell_type": "code",
   "execution_count": 20,
   "metadata": {},
   "outputs": [],
   "source": [
    "favorite_languages = {\n",
    "    'kashi':'python',\n",
    "    'kaflay':'java',\n",
    "    'binish':'C#',\n",
    "    'pravin':'golang',\n",
    "}"
   ]
  },
  {
   "cell_type": "code",
   "execution_count": 31,
   "metadata": {},
   "outputs": [
    {
     "name": "stdout",
     "output_type": "stream",
     "text": [
      "{'kashi': 'python', 'kaflay': 'java', 'binish': 'C#', 'pravin': 'golang'}\n",
      "favorite languages of  :['kashi']\n"
     ]
    }
   ],
   "source": [
    "print(favorite_languages)\n",
    "print(f\"favorite languages of  :['kashi']\")\n"
   ]
  },
  {
   "cell_type": "code",
   "execution_count": 34,
   "metadata": {},
   "outputs": [
    {
     "name": "stdout",
     "output_type": "stream",
     "text": [
      "kashi's favorite language is Python.\n"
     ]
    }
   ],
   "source": [
    "language = favorite_languages['kashi'].title()\n",
    "print(f\"kashi's favorite language is {language}.\")"
   ]
  },
  {
   "cell_type": "code",
   "execution_count": 35,
   "metadata": {},
   "outputs": [
    {
     "name": "stdout",
     "output_type": "stream",
     "text": [
      "No point value assigned\n"
     ]
    }
   ],
   "source": [
    "# using get to access the value\n",
    "alien_0 = {'color':'green','speed':'slow'}\n",
    "point_value = alien_0.get('points','No point value assigned')\n",
    "print(point_value)"
   ]
  },
  {
   "cell_type": "code",
   "execution_count": 39,
   "metadata": {},
   "outputs": [
    {
     "name": "stdout",
     "output_type": "stream",
     "text": [
      "\n",
      " key:username\n",
      "\n",
      " Value: efermi\n",
      "\n",
      " key:first\n",
      "\n",
      " Value: enrico\n",
      "\n",
      " key:last\n",
      "\n",
      " Value: fermi\n"
     ]
    }
   ],
   "source": [
    "# looping through all key-value pairs\n",
    "# for k, v in user_0.items()\n",
    "user_0 ={\n",
    "    'username':'efermi',\n",
    "    'first':'enrico',\n",
    "    'last':'fermi',\n",
    "}\n",
    "for key, value in user_0.items():\n",
    "    print(f\"\\n key:{key}\")\n",
    "    print(f\"\\n Value: {value}\")"
   ]
  },
  {
   "cell_type": "code",
   "execution_count": 41,
   "metadata": {},
   "outputs": [
    {
     "name": "stdout",
     "output_type": "stream",
     "text": [
      "\n",
      " key:technical\n",
      "\n",
      " Value:milan_oja\n",
      "\n",
      " key:front_desk\n",
      "\n",
      " Value:bina karki\n",
      "\n",
      " key:qa\n",
      "\n",
      " Value:roshan_bhandari\n"
     ]
    }
   ],
   "source": [
    "my_team={\n",
    "    'technical':'milan_oja',\n",
    "    'front_desk':'bina karki',\n",
    "    'qa':'roshan_bhandari',\n",
    "}\n",
    "for key, value in my_team.items():\n",
    "    print(f\"\\n key:{key}\")\n",
    "    print(f\"\\n Value:{value}\")"
   ]
  },
  {
   "cell_type": "code",
   "execution_count": 45,
   "metadata": {},
   "outputs": [
    {
     "name": "stdout",
     "output_type": "stream",
     "text": [
      "\n",
      " Kashi \n",
      "Kashi's favorite language is Python\n",
      "\n",
      " Kflay \n",
      "Kflay's favorite language is Larvel\n",
      "\n",
      " Binisha \n",
      "Binisha's favorite language is C#\n",
      "\n",
      " Pravin \n",
      "Pravin's favorite language is Mongodb\n"
     ]
    }
   ],
   "source": [
    "favorite_language={\n",
    "    'kashi':'python',\n",
    "    'kflay':'larvel',\n",
    "    'binisha':'c#',\n",
    "    'pravin':'mongodb',\n",
    "}\n",
    "for name, language in favorite_language.items():\n",
    "    print(f\"\\n {name.title()} \")\n",
    "#     print(f\"\\n{language.title()}\")\n",
    "    print(f\"{name.title()}'s favorite language is {language.title()}\")"
   ]
  },
  {
   "cell_type": "code",
   "execution_count": 48,
   "metadata": {},
   "outputs": [
    {
     "name": "stdout",
     "output_type": "stream",
     "text": [
      "Edward, thank you for taking the poll\n",
      "Jen, thank you for taking the poll\n",
      "Phil, thank you for taking the poll\n",
      "Sarah, thank you for taking the poll\n"
     ]
    }
   ],
   "source": [
    "# looping through a dictionary's keys in a particular order\n",
    "\n",
    "favorite_languages = {\n",
    " 'jen': 'python',\n",
    " 'sarah': 'c',\n",
    " 'edward': 'ruby',\n",
    " 'phil': 'python',\n",
    " }\n",
    "for name in sorted(favorite_languages.keys()):\n",
    "    print(f\"{name.title()}, thank you for taking the poll\")\n",
    "    "
   ]
  },
  {
   "cell_type": "code",
   "execution_count": 49,
   "metadata": {},
   "outputs": [
    {
     "name": "stdout",
     "output_type": "stream",
     "text": [
      "The following languages have been mentioned:\n",
      "Python\n",
      "C\n",
      "Ruby\n",
      "Python\n"
     ]
    }
   ],
   "source": [
    "print(\"The following languages have been mentioned:\")\n",
    "for language in favorite_languages.values():\n",
    " print(language.title())"
   ]
  },
  {
   "cell_type": "code",
   "execution_count": 52,
   "metadata": {},
   "outputs": [
    {
     "name": "stdout",
     "output_type": "stream",
     "text": [
      "The following languages have been mentioned:\n",
      "Ruby\n",
      "Python\n",
      "C\n"
     ]
    }
   ],
   "source": [
    "# To see each language chosen without repetition, we can use a set. \n",
    "# A set is a collection in which each item must be unique:\n",
    "print(\"The following languages have been mentioned:\")\n",
    "for language in set(favorite_languages.values()):\n",
    " print(language.title())"
   ]
  },
  {
   "cell_type": "code",
   "execution_count": 2,
   "metadata": {},
   "outputs": [
    {
     "name": "stdout",
     "output_type": "stream",
     "text": [
      "{'color': 'green', 'points': 5}\n",
      "{'color': 'yellow', 'points': 10}\n",
      "{'color': 'red', 'points': 15}\n"
     ]
    }
   ],
   "source": [
    "# Nesting\n",
    "# a list of dictionary\n",
    "alien_0 = {'color':'green', 'points':5}\n",
    "alien_1 = {'color':'yellow','points':10}\n",
    "alien_2 = {'color':'red','points':15}\n",
    "\n",
    "aliens = [alien_0, alien_1, alien_2]\n",
    "for alien in aliens:\n",
    "    print(alien)"
   ]
  },
  {
   "cell_type": "code",
   "execution_count": 9,
   "metadata": {},
   "outputs": [
    {
     "name": "stdout",
     "output_type": "stream",
     "text": [
      "{'color': 'green', 'points': 5, 'speed': 'slow'}\n",
      "{'color': 'green', 'points': 5, 'speed': 'slow'}\n",
      "{'color': 'green', 'points': 5, 'speed': 'slow'}\n",
      "{'color': 'green', 'points': 5, 'speed': 'slow'}\n",
      "{'color': 'green', 'points': 5, 'speed': 'slow'}\n",
      "...\n",
      "Total number of aliens: 30\n"
     ]
    }
   ],
   "source": [
    "aliens = []\n",
    "for alien_number in range(30):\n",
    "    new_alien = {'color':'green','points':5, 'speed':'slow'}\n",
    "    aliens.append(new_alien)\n",
    "    \n",
    "#     show the first 5 alies\n",
    "for alien in aliens[:5]:\n",
    "    print(alien)\n",
    "print(\"...\")\n",
    "\n",
    "\n",
    "# Show how many aliens have been created.\n",
    "print(f\"Total number of aliens: {len(aliens)}\")"
   ]
  },
  {
   "cell_type": "code",
   "execution_count": 11,
   "metadata": {},
   "outputs": [
    {
     "name": "stdout",
     "output_type": "stream",
     "text": [
      "{'babita': 'python_developer', 'kashi': 'python_lead', 'dinesh': 'java_lead'}\n",
      "{'babita': 'python_developer', 'kashi': 'python_lead', 'dinesh': 'java_lead'}\n",
      "{'babita': 'python_developer', 'kashi': 'python_lead', 'dinesh': 'java_lead'}\n",
      "{'babita': 'python_developer', 'kashi': 'python_lead', 'dinesh': 'java_lead'}\n",
      "{'babita': 'python_developer', 'kashi': 'python_lead', 'dinesh': 'java_lead'}\n",
      "....\n",
      "Total number of aliens:20\n"
     ]
    }
   ],
   "source": [
    "# making an empty list for storing aliens\n",
    "kashi =[]\n",
    "\n",
    "# make 20 green aliens.\n",
    "for x in range(20):\n",
    "    new_x = {'babita':'python_developer','kashi':'python_lead','dinesh':'java_lead'}\n",
    "    kashi.append(new_x)\n",
    "    \n",
    "#     show the first 5 aliens.\n",
    "for y in kashi[:5]:\n",
    "    print(y)\n",
    "print(\"....\")\n",
    "\n",
    "# show how may aliens have been created.\n",
    "print(f\"Total number of aliens:{len(kashi)}\")"
   ]
  },
  {
   "cell_type": "code",
   "execution_count": 19,
   "metadata": {},
   "outputs": [
    {
     "name": "stdout",
     "output_type": "stream",
     "text": [
      "{'color': 'green', 'points': 5, 'speed': 'slow'}\n",
      "{'color': 'green', 'points': 5, 'speed': 'slow'}\n",
      "{'color': 'green', 'points': 5, 'speed': 'slow'}\n",
      "{'color': 'green', 'points': 5, 'speed': 'slow'}\n",
      "{'color': 'green', 'points': 5, 'speed': 'slow'}\n",
      "....\n"
     ]
    }
   ],
   "source": [
    "# make an empty list for storing aliens.\n",
    "aliens = []\n",
    "\n",
    "# make 30 green aliens.\n",
    "for alien_number in range (30):\n",
    "    new_alien = {'color':'green', 'points':5, 'speed':'slow'}\n",
    "    aliens.append(new_alien)\n",
    "\n",
    "for y in aliens[:3]:\n",
    "    if y ['color']=='green':\n",
    "        y['color'] == 'yellow'\n",
    "        y['speed'] == 'medium'\n",
    "        y['points']== 10\n",
    "\n",
    "# show the first 5 aliens\n",
    "\n",
    "for alien in aliens[:5]:\n",
    "    print(y)\n",
    "print(\"....\")"
   ]
  },
  {
   "cell_type": "code",
   "execution_count": 5,
   "metadata": {},
   "outputs": [],
   "source": [
    "# a list in dictionary\n",
    "pizza ={\n",
    "    'crust': 'thick',\n",
    "    'toppings':['mushroom','extra cheese'],\n",
    "} "
   ]
  },
  {
   "cell_type": "code",
   "execution_count": 9,
   "metadata": {},
   "outputs": [
    {
     "name": "stdout",
     "output_type": "stream",
     "text": [
      "you ordered a thick-crust pizza with the following toppings:\n",
      "\tmushroom\n",
      "\textra cheese\n"
     ]
    }
   ],
   "source": [
    "print(f\"you ordered a {pizza['crust']}-crust pizza \" \"with the following toppings:\")\n",
    "for topping in pizza['toppings']:\n",
    "     print(\"\\t\" + topping)"
   ]
  },
  {
   "cell_type": "code",
   "execution_count": 1,
   "metadata": {},
   "outputs": [
    {
     "name": "stdout",
     "output_type": "stream",
     "text": [
      "\n",
      "Jen's favorite languages are: \n",
      "\tPython\n",
      "\tRuby\n",
      "\n",
      "Sarah's favorite languages are: \n",
      "\tC\n",
      "\n",
      "Edward's favorite languages are: \n",
      "\tRuby\n",
      "\tGo\n",
      "\n",
      "Phil's favorite languages are: \n",
      "\tPython\n",
      "\tHaskell\n"
     ]
    }
   ],
   "source": [
    "favorite_languages = {\n",
    "    'jen':['python','ruby'],\n",
    "    'sarah':['c'],\n",
    "    'edward':['ruby','go'],\n",
    "    'phil':['python','haskell'],\n",
    "}\n",
    "\n",
    "for name, languages in favorite_languages.items():\n",
    "    print(f\"\\n{name.title()}'s favorite languages are: \")\n",
    "    for language in languages:\n",
    "        print(f\"\\t{language.title()}\")"
   ]
  },
  {
   "cell_type": "code",
   "execution_count": 6,
   "metadata": {},
   "outputs": [
    {
     "name": "stdout",
     "output_type": "stream",
     "text": [
      "\n",
      "Group A team's football  member  are :\n",
      "\tNepal\n",
      "\tIndia\n",
      "\tThiland\n",
      "\tTurkey\n",
      "\tUSA\n",
      "\n",
      "Group B team's football  member  are :\n",
      "\tBhutan\n",
      "\tChina\n",
      "\tPakistan\n",
      "\n",
      "Group team's football  member  are :\n",
      "\tAfganstan\n",
      "\tIraq\n",
      "\tkoreya\n"
     ]
    }
   ],
   "source": [
    "teams ={\n",
    "    'Group A':['Nepal', 'India','Thiland','Turkey','USA'],\n",
    "    'Group B':['Bhutan', 'China', 'Pakistan'],\n",
    "    'Group' :['Afganstan','Iraq', 'koreya'],\n",
    "}\n",
    "\n",
    "for x , y in teams.items():\n",
    "    print(f\"\\n{x.title()} team's football  member  are :\")\n",
    "    for z in y:\n",
    "        print(f\"\\t{z}\")\n",
    "        \n",
    "# syantax::> for x, y in dictinary_varible_name.items():\n",
    "    # print(f\"{x.tile()} 's member\")\n",
    "#     for z in y:\n",
    "#         print(f\"\\t{z.title()}\")\n",
    "\n"
   ]
  },
  {
   "cell_type": "code",
   "execution_count": 13,
   "metadata": {},
   "outputs": [
    {
     "name": "stdout",
     "output_type": "stream",
     "text": [
      "Bharamin's  cast peoples in dada gau village are:\n",
      "\tRegmi\n",
      "\tBhattarai\n",
      "\tRijal\n",
      "\tPokhrel\n",
      "\tSapkota\n",
      "\tBhushal\n",
      "\tAdhakari\n",
      "Chhetri's  cast peoples in dada gau village are:\n",
      "\tKhadka\n",
      "\tBhaneya\n",
      "\tTiwari\n",
      "\tUprathi\n",
      "\tKarki\n",
      "Newar's  cast peoples in dada gau village are:\n",
      "\tPradhan\n",
      "\tShrestha\n",
      "Rai's  cast peoples in dada gau village are:\n",
      "\tSunuwar\n",
      "Tamang's  cast peoples in dada gau village are:\n",
      "\tSanyangbo\n",
      "Damai's  cast peoples in dada gau village are:\n",
      "\tRanapayali\n",
      "Kami's  cast peoples in dada gau village are:\n",
      "\tKarki\n",
      "\tGadhal\n",
      "\tGajmer\n"
     ]
    }
   ],
   "source": [
    "dada_gau ={\n",
    "    'bharamin':['regmi','bhattarai','rijal','pokhrel','sapkota', 'bhushal', 'adhakari'],\n",
    "    'chhetri': ['khadka','bhaneya','tiwari', 'uprathi', 'karki'],\n",
    "    'newar':['pradhan','shrestha'],\n",
    "    'rai':['sunuwar'],\n",
    "    'tamang':['sanyangbo'],\n",
    "    'damai':['ranapayali'],\n",
    "    'kami':['karki','gadhal','gajmer'],\n",
    "}\n",
    "for x, y in dada_gau.items():\n",
    "    print(f\"{x.title()}'s  cast peoples in dada gau village are:\")\n",
    "    for z in y:\n",
    "        print(f\"\\t{z.title()}\")"
   ]
  },
  {
   "cell_type": "code",
   "execution_count": 20,
   "metadata": {},
   "outputs": [
    {
     "name": "stdout",
     "output_type": "stream",
     "text": [
      "\n",
      " Username:kashi\n",
      "\t Full name:Albert Eiinstein\n",
      "\t location:Princeton\n",
      "\n",
      " Username:mcuri\n",
      "\t Full name:Maria Curie\n",
      "\t location:Paris\n"
     ]
    }
   ],
   "source": [
    "# dictionary in a dictionary\n",
    "users = {\n",
    "    'kashi':{\n",
    "        'first':'albert',\n",
    "        'last':'eiinstein',\n",
    "        'location':'princeton',\n",
    "    },\n",
    "    'mcuri':{\n",
    "        'first':'maria',\n",
    "        'last':'curie',\n",
    "        'location':'paris',\n",
    "    },\n",
    "}\n",
    "\n",
    "for x, y in users.items():\n",
    "    print(f\"\\n Username:{x}\")\n",
    "    full_name = f\"{y['first']} {y['last']}\"\n",
    "    location = y['location']\n",
    "    \n",
    "    print(f\"\\t Full name:{full_name.title()}\")\n",
    "    print(f\"\\t location:{location.title()}\")\n",
    "    \n"
   ]
  },
  {
   "cell_type": "code",
   "execution_count": null,
   "metadata": {},
   "outputs": [],
   "source": []
  }
 ],
 "metadata": {
  "kernelspec": {
   "display_name": "Python 3",
   "language": "python",
   "name": "python3"
  },
  "language_info": {
   "codemirror_mode": {
    "name": "ipython",
    "version": 3
   },
   "file_extension": ".py",
   "mimetype": "text/x-python",
   "name": "python",
   "nbconvert_exporter": "python",
   "pygments_lexer": "ipython3",
   "version": "3.7.4"
  }
 },
 "nbformat": 4,
 "nbformat_minor": 2
}
