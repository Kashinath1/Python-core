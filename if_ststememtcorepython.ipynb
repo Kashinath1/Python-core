{
 "cells": [
  {
   "cell_type": "code",
   "execution_count": 1,
   "metadata": {},
   "outputs": [
    {
     "name": "stdout",
     "output_type": "stream",
     "text": [
      "Audi\n",
      "BMW\n",
      "Subaru\n",
      "Toyota\n"
     ]
    }
   ],
   "source": [
    "# if statement in python\n",
    "cars = ['audi','bmw','subaru','toyota']\n",
    "\n",
    "for car in cars:\n",
    "    if car == 'bmw':\n",
    "        print(car.upper())\n",
    "    else:\n",
    "        print(car.title())"
   ]
  },
  {
   "cell_type": "code",
   "execution_count": 4,
   "metadata": {},
   "outputs": [
    {
     "name": "stdout",
     "output_type": "stream",
     "text": [
      "YOU ARE HIRED AS PYTHON DEVELOPER\n",
      "networking\n",
      "java_developer\n",
      "dot_net_developer\n"
     ]
    }
   ],
   "source": [
    "skills = [ 'python developer','networking','java_developer',\"dot_net_developer\"]\n",
    "for skill in skills:\n",
    "    if skill == 'python developer':\n",
    "        print(\"you are hired as python developer\".upper())\n",
    "    else:\n",
    "        print(skill)"
   ]
  },
  {
   "cell_type": "code",
   "execution_count": 6,
   "metadata": {},
   "outputs": [
    {
     "name": "stdout",
     "output_type": "stream",
     "text": [
      "KERA\n",
      "Sheyau\n",
      "Aap\n"
     ]
    }
   ],
   "source": [
    "monparnays = ['kera','sheyau', 'aap']\n",
    "for monparnay in monparnays:\n",
    "    if monparnay == 'kera':\n",
    "        print(monparnay.upper())\n",
    "    else:\n",
    "        print(monparnay.title())"
   ]
  },
  {
   "cell_type": "code",
   "execution_count": 8,
   "metadata": {},
   "outputs": [
    {
     "name": "stdout",
     "output_type": "stream",
     "text": [
      "hod the anchovies!\n"
     ]
    }
   ],
   "source": [
    "# checking for inequalaity\n",
    "requested_topping = 'mushroom'\n",
    "\n",
    "if requested_topping != 'anchovies':\n",
    "    print(\"hod the anchovies!\")"
   ]
  },
  {
   "cell_type": "code",
   "execution_count": 2,
   "metadata": {},
   "outputs": [],
   "source": [
    "age = 18\n"
   ]
  },
  {
   "cell_type": "code",
   "execution_count": 3,
   "metadata": {},
   "outputs": [
    {
     "data": {
      "text/plain": [
       "True"
      ]
     },
     "execution_count": 3,
     "metadata": {},
     "output_type": "execute_result"
    }
   ],
   "source": [
    "age == 18"
   ]
  },
  {
   "cell_type": "code",
   "execution_count": 5,
   "metadata": {},
   "outputs": [
    {
     "name": "stdout",
     "output_type": "stream",
     "text": [
      "that a wrong answer, please try it again\n"
     ]
    }
   ],
   "source": [
    "answer = 17\n",
    "if answer != 42:\n",
    "    print(\"that a wrong answer, please try it again\")"
   ]
  },
  {
   "cell_type": "code",
   "execution_count": 6,
   "metadata": {},
   "outputs": [
    {
     "data": {
      "text/plain": [
       "True"
      ]
     },
     "execution_count": 6,
     "metadata": {},
     "output_type": "execute_result"
    }
   ],
   "source": [
    "age = 19\n",
    "age<21"
   ]
  },
  {
   "cell_type": "code",
   "execution_count": 7,
   "metadata": {},
   "outputs": [
    {
     "data": {
      "text/plain": [
       "False"
      ]
     },
     "execution_count": 7,
     "metadata": {},
     "output_type": "execute_result"
    }
   ],
   "source": [
    "age_0 = 22\n",
    "age_1 = 18\n",
    "age_0 >= 21 and age_1 >=21"
   ]
  },
  {
   "cell_type": "code",
   "execution_count": 8,
   "metadata": {},
   "outputs": [
    {
     "data": {
      "text/plain": [
       "True"
      ]
     },
     "execution_count": 8,
     "metadata": {},
     "output_type": "execute_result"
    }
   ],
   "source": [
    "age_1 = 22\n",
    "age_0 >=21 and age_1>=21"
   ]
  },
  {
   "cell_type": "code",
   "execution_count": 12,
   "metadata": {},
   "outputs": [],
   "source": [
    "requested_toppings = ['mushrooms','onions','pineapple']"
   ]
  },
  {
   "cell_type": "code",
   "execution_count": 47,
   "metadata": {},
   "outputs": [
    {
     "data": {
      "text/plain": [
       "True"
      ]
     },
     "execution_count": 47,
     "metadata": {},
     "output_type": "execute_result"
    }
   ],
   "source": [
    "'mushrooms' in requested_toppings"
   ]
  },
  {
   "cell_type": "code",
   "execution_count": 48,
   "metadata": {},
   "outputs": [],
   "source": [
    "#     def find_max(nums):\n",
    "#         max_num = float(\"-inf\")\n",
    "#         for num in nums:\n",
    "#             if num > max_num:\n",
    "#                 return max_num\n"
   ]
  },
  {
   "cell_type": "code",
   "execution_count": 49,
   "metadata": {},
   "outputs": [
    {
     "name": "stdout",
     "output_type": "stream",
     "text": [
      "Kashi, you can post a response if you wish.\n"
     ]
    }
   ],
   "source": [
    "# checking whether a value is not in a list\n",
    "banded_users = ['andrew','methu','carolina','david']\n",
    "user = 'kashi'\n",
    "\n",
    "if user not in banded_users:\n",
    "    print(f\"{user.title()}, you can post a response if you wish.\")"
   ]
  },
  {
   "cell_type": "code",
   "execution_count": 54,
   "metadata": {},
   "outputs": [
    {
     "name": "stdout",
     "output_type": "stream",
     "text": [
      "you are old enough to vote!\n"
     ]
    }
   ],
   "source": [
    "age = 19\n",
    "if age >=18:\n",
    "    print(\"you are old enough to vote!\")\n"
   ]
  },
  {
   "cell_type": "code",
   "execution_count": 55,
   "metadata": {},
   "outputs": [
    {
     "name": "stdout",
     "output_type": "stream",
     "text": [
      "you are old enough to vote!\n",
      "have you registred to vote yet?\n"
     ]
    }
   ],
   "source": [
    "age = 19\n",
    "if age >=18:\n",
    "    print(\"you are old enough to vote!\")\n",
    "    print(\"have you registred to vote yet?\")\n",
    "    "
   ]
  },
  {
   "cell_type": "code",
   "execution_count": 56,
   "metadata": {},
   "outputs": [
    {
     "name": "stdout",
     "output_type": "stream",
     "text": [
      "sorry you are too young to vote\n"
     ]
    }
   ],
   "source": [
    "# if-else statement\n",
    "age = 17\n",
    "if age >=18:\n",
    "    print(\"you are old enough to vote!\")\n",
    "    print(\"have you register to vote list as you turn 18!\")\n",
    "else:\n",
    "    print(\"sorry you are too young to vote\")"
   ]
  },
  {
   "cell_type": "code",
   "execution_count": 59,
   "metadata": {},
   "outputs": [
    {
     "name": "stdout",
     "output_type": "stream",
     "text": [
      "your admission cost is $25.\n"
     ]
    }
   ],
   "source": [
    "# if-elif-else chain condition\n",
    "age = 12\n",
    "if age < 4:\n",
    "    print(\"you admission cost is $0.\")\n",
    "\n",
    "elif age < 18:\n",
    "    print(\"your admission cost is $25.\")\n",
    "else:\n",
    "    print(\"your admission cost is $40\")\n",
    "    "
   ]
  },
  {
   "cell_type": "code",
   "execution_count": 62,
   "metadata": {},
   "outputs": [
    {
     "name": "stdout",
     "output_type": "stream",
     "text": [
      "Your admission cost is $25\n"
     ]
    }
   ],
   "source": [
    "age = 12\n",
    "if age <4:\n",
    "    price = 0\n",
    "elif age<18:\n",
    "    price = 25\n",
    "else:\n",
    "    price = 40\n",
    "print(f\"Your admission cost is ${price}\")"
   ]
  },
  {
   "cell_type": "code",
   "execution_count": 72,
   "metadata": {},
   "outputs": [
    {
     "name": "stdout",
     "output_type": "stream",
     "text": [
      "Your admission cost is $40\n"
     ]
    }
   ],
   "source": [
    "# using multiple elif block\n",
    "age = 12\n",
    "if age < 4:\n",
    "    price =0\n",
    "elif age >18:\n",
    "    price = 25\n",
    "elif age < 65:\n",
    "    price =40\n",
    "else:\n",
    "    price =20\n",
    "print(f\"Your admission cost is ${price}\")\n"
   ]
  },
  {
   "cell_type": "code",
   "execution_count": 79,
   "metadata": {},
   "outputs": [
    {
     "name": "stdout",
     "output_type": "stream",
     "text": [
      "Adding mushroom\n",
      "adding extra cheese\n",
      "\n",
      " Finish making your pizza\n"
     ]
    }
   ],
   "source": [
    "# testing multiple conditions\n",
    "requested_toppings = ['mushroom','extra chese']\n",
    "if 'mushroom' in requested_toppings:\n",
    "    print(\"Adding mushroom\")\n",
    "if 'pepperoni' in requested_toppings:\n",
    "    print(\"adding pepperoni\")\n",
    "if 'extra chese' in requested_toppings:\n",
    "    print(\"adding extra cheese\")\n",
    "print(\"\\n Finish making your pizza\")"
   ]
  },
  {
   "cell_type": "code",
   "execution_count": 80,
   "metadata": {},
   "outputs": [
    {
     "name": "stdout",
     "output_type": "stream",
     "text": [
      "Adding mushrooms\n",
      "Adding green peppers\n",
      "Adding extra cheese\n",
      "\n",
      " Finish making your pizza\n"
     ]
    }
   ],
   "source": [
    "# checking for special items\n",
    "requested_toppings = ['mushrooms', 'green peppers','extra cheese']\n",
    "\n",
    "for requested_topping in requested_toppings:\n",
    "    print(f\"Adding {requested_topping}\")\n",
    "print(\"\\n Finish making your pizza\")"
   ]
  },
  {
   "cell_type": "code",
   "execution_count": 83,
   "metadata": {},
   "outputs": [
    {
     "name": "stdout",
     "output_type": "stream",
     "text": [
      "Bsc csit include Math\n",
      "Bsc csit include Physics\n",
      "Bsc csit include Stat\n",
      "Bsc csit include Algo\n",
      "\n",
      " congratulation for completing bachlor in computer science\n"
     ]
    }
   ],
   "source": [
    "comp_sci = ['math','physics','stat','algo']\n",
    "for comp_sc in comp_sci:\n",
    "    print(f\"Bsc csit include {comp_sc.title()}\")\n",
    "print(\"\\n congratulation for completing bachlor in computer science\")"
   ]
  },
  {
   "cell_type": "code",
   "execution_count": 84,
   "metadata": {},
   "outputs": [
    {
     "name": "stdout",
     "output_type": "stream",
     "text": [
      "sorry we are out of green peppers\n",
      "\n",
      "Finished making your pizza\n"
     ]
    }
   ],
   "source": [
    "requested_toppings = ['mushrooms', 'green peppers','extra cheese']\n",
    "for requested_topping in requested_toppings:\n",
    "    if requested_topping == 'green peppers':\n",
    "        print(\"sorry we are out of green peppers\")\n",
    "print(\"\\nFinished making your pizza\")"
   ]
  },
  {
   "cell_type": "code",
   "execution_count": 85,
   "metadata": {},
   "outputs": [
    {
     "name": "stdout",
     "output_type": "stream",
     "text": [
      "Adding mushrooms.\n",
      "sorry we are out of green peppers\n",
      "Adding extra cheese.\n"
     ]
    }
   ],
   "source": [
    "requested_toppings = ['mushrooms', 'green peppers','extra cheese']\n",
    "for requested_topping in requested_toppings:\n",
    "    if requested_topping == 'green peppers':\n",
    "        print(\"sorry we are out of green peppers\")\n",
    "    else:\n",
    "        print(f\"Adding {requested_topping}.\")\n",
    "    "
   ]
  },
  {
   "cell_type": "code",
   "execution_count": 86,
   "metadata": {},
   "outputs": [
    {
     "name": "stdout",
     "output_type": "stream",
     "text": [
      "sorry, we don't have mushrooms\n",
      "sorry, we don't have french fries\n",
      "Adding extra cheese\n"
     ]
    }
   ],
   "source": [
    "# using Multiple list:\n",
    "available_toppings = ['mushorooms', 'olivers','green peppers','pepperoni','pineapple','extra cheese']\n",
    "\n",
    "requested_toppings = ['mushrooms', 'french fries','extra cheese']\n",
    "\n",
    "for request_topping in requested_toppings:\n",
    "    if request_topping in available_toppings:\n",
    "        print(f\"Adding {request_topping}\")\n",
    "    else:\n",
    "        print(f\"sorry, we don't have {request_topping}\")\n",
    "        "
   ]
  },
  {
   "cell_type": "code",
   "execution_count": null,
   "metadata": {},
   "outputs": [],
   "source": []
  }
 ],
 "metadata": {
  "kernelspec": {
   "display_name": "Python 3",
   "language": "python",
   "name": "python3"
  },
  "language_info": {
   "codemirror_mode": {
    "name": "ipython",
    "version": 3
   },
   "file_extension": ".py",
   "mimetype": "text/x-python",
   "name": "python",
   "nbconvert_exporter": "python",
   "pygments_lexer": "ipython3",
   "version": "3.7.4"
  }
 },
 "nbformat": 4,
 "nbformat_minor": 2
}
