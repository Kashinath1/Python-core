{
 "cells": [
  {
   "cell_type": "code",
   "execution_count": 1,
   "metadata": {},
   "outputs": [
    {
     "name": "stdout",
     "output_type": "stream",
     "text": [
      "Tell me something, and I will repeat it back to you:huuu\n",
      "huuu\n"
     ]
    }
   ],
   "source": [
    "# taking input value\n",
    "message = input(\"Tell me something, and I will repeat it back to you:\")\n",
    "print(message)"
   ]
  },
  {
   "cell_type": "code",
   "execution_count": 2,
   "metadata": {},
   "outputs": [
    {
     "name": "stdout",
     "output_type": "stream",
     "text": [
      "please enter your name:hhjh\n",
      "\n",
      " Hello,Hhjh\n"
     ]
    }
   ],
   "source": [
    "# writing clear prompts\n",
    "name = input(\"please enter your name:\")\n",
    "print(f\"\\n Hello,{name.title()}\")"
   ]
  },
  {
   "cell_type": "code",
   "execution_count": 3,
   "metadata": {},
   "outputs": [
    {
     "name": "stdout",
     "output_type": "stream",
     "text": [
      "if you tell us who you are, we can personalize the message you see\n",
      "What is your first name?hjhh\n",
      "\n",
      " Hello,hjhh\n"
     ]
    }
   ],
   "source": [
    "prompt = \"if you tell us who you are, we can personalize the message you see\"\n",
    "prompt += \"\\nWhat is your first name?\"\n",
    "name = input(prompt)\n",
    "print(f\"\\n Hello,{name}\")"
   ]
  },
  {
   "cell_type": "code",
   "execution_count": 1,
   "metadata": {},
   "outputs": [
    {
     "name": "stdout",
     "output_type": "stream",
     "text": [
      "hello darshan namastay hajur\n",
      " could you mind to enter your name?kashi\n",
      "\n",
      " chup mugi kashi\n"
     ]
    }
   ],
   "source": [
    "prompt = \"hello darshan namastay hajur\"\n",
    "prompt += \"\\n could you mind to enter your name?\"\n",
    "name = input(prompt)\n",
    "print(f\"\\n chup mugi {name}\")"
   ]
  },
  {
   "cell_type": "code",
   "execution_count": 4,
   "metadata": {},
   "outputs": [
    {
     "name": "stdout",
     "output_type": "stream",
     "text": [
      "enter your namehhjh\n",
      "\n",
      " Hello dear hhjh\n"
     ]
    }
   ],
   "source": [
    "anju = input(\"enter your name\")\n",
    "\n",
    "print(f\"\\n Hello dear {anju}\")"
   ]
  },
  {
   "cell_type": "code",
   "execution_count": 6,
   "metadata": {},
   "outputs": [
    {
     "name": "stdout",
     "output_type": "stream",
     "text": [
      "How old are you?21\n"
     ]
    }
   ],
   "source": [
    "age = input(\"How old are you?\")\n"
   ]
  },
  {
   "cell_type": "code",
   "execution_count": 7,
   "metadata": {},
   "outputs": [
    {
     "name": "stdout",
     "output_type": "stream",
     "text": [
      "21\n"
     ]
    }
   ],
   "source": [
    "print(age)"
   ]
  },
  {
   "cell_type": "code",
   "execution_count": 12,
   "metadata": {},
   "outputs": [
    {
     "name": "stdout",
     "output_type": "stream",
     "text": [
      "How old are you?44\n"
     ]
    },
    {
     "data": {
      "text/plain": [
       "True"
      ]
     },
     "execution_count": 12,
     "metadata": {},
     "output_type": "execute_result"
    }
   ],
   "source": [
    "age = input(\"How old are you?\")\n",
    "age = int(age)\n",
    "age>=18"
   ]
  },
  {
   "cell_type": "code",
   "execution_count": 16,
   "metadata": {},
   "outputs": [
    {
     "name": "stdout",
     "output_type": "stream",
     "text": [
      "enter your marks89\n",
      "congratulations you have got distinction\n"
     ]
    }
   ],
   "source": [
    "marks = input(\"enter your marks\")\n",
    "marks = int(marks)\n",
    "marks >80\n",
    "print(\"congratulations you have got distinction\")"
   ]
  },
  {
   "cell_type": "code",
   "execution_count": 19,
   "metadata": {},
   "outputs": [
    {
     "name": "stdout",
     "output_type": "stream",
     "text": [
      "how tall are you, in height?9\n",
      "\n",
      " you are tall enough to ride!!\n"
     ]
    }
   ],
   "source": [
    "height = input(\"how tall are you, in height?\")\n",
    "height = int(height)\n",
    "if height>= 6:\n",
    "    print(\"\\n you are tall enough to ride!!\")\n",
    "else:\n",
    "    print(\"\\n sorry your's height is not enough to ride\")\n"
   ]
  },
  {
   "cell_type": "code",
   "execution_count": 22,
   "metadata": {},
   "outputs": [
    {
     "data": {
      "text/plain": [
       "2"
      ]
     },
     "execution_count": 22,
     "metadata": {},
     "output_type": "execute_result"
    }
   ],
   "source": [
    "# the modulo operator\n",
    "5%3"
   ]
  },
  {
   "cell_type": "code",
   "execution_count": 26,
   "metadata": {},
   "outputs": [
    {
     "name": "stdout",
     "output_type": "stream",
     "text": [
      "enter a number, and i'll tell you if it's even or odd:41\n",
      "\t the enter number 41 is odd \n"
     ]
    }
   ],
   "source": [
    "number = input(\"enter a number, and i'll tell you if it's even or odd:\")\n",
    "number = int(number)\n",
    "if number %2==0:\n",
    "    print(f\"\\n The number{number} is even\")\n",
    "else:\n",
    "    print(f\"\\t the enter number {number} is odd \")"
   ]
  },
  {
   "cell_type": "code",
   "execution_count": 27,
   "metadata": {},
   "outputs": [
    {
     "name": "stdout",
     "output_type": "stream",
     "text": [
      "1\n",
      "2\n",
      "3\n",
      "4\n",
      "5\n"
     ]
    }
   ],
   "source": [
    "# while loop in action\n",
    "current_number = 1\n",
    "while current_number <=5:\n",
    "    print(current_number)\n",
    "    current_number+=1"
   ]
  },
  {
   "cell_type": "code",
   "execution_count": 1,
   "metadata": {},
   "outputs": [
    {
     "name": "stdout",
     "output_type": "stream",
     "text": [
      "\n",
      " Tell me something, and I will repeat it back to you:\n",
      "Enter 'quite' to end the program.hello\n",
      "your message is :hello\n",
      "\n",
      " Tell me something, and I will repeat it back to you:\n",
      "Enter 'quite' to end the program.quit\n",
      "your message is :quit\n",
      "\n",
      " Tell me something, and I will repeat it back to you:\n",
      "Enter 'quite' to end the program.quite\n",
      "your message is :quite\n"
     ]
    }
   ],
   "source": [
    "# letting the User choose when to quite\n",
    "prompt = \"\\n Tell me something, and I will repeat it back to you:\"\n",
    "prompt += \"\\nEnter 'quite' to end the program.\"\n",
    "\n",
    "message = ''\n",
    "while message != 'quite':\n",
    "    message = input(prompt)\n",
    "    print(f\"your message is :{message}\")\n"
   ]
  },
  {
   "cell_type": "code",
   "execution_count": 2,
   "metadata": {},
   "outputs": [
    {
     "name": "stdout",
     "output_type": "stream",
     "text": [
      "\n",
      " Tell me any thing you want to tell me\n",
      " Enter 'quit' to end the programcheck\n",
      "check\n",
      "\n",
      " Tell me any thing you want to tell me\n",
      " Enter 'quit' to end the programquit\n"
     ]
    }
   ],
   "source": [
    "prompt = \"\\n Tell me any thing you want to tell me\"\n",
    "prompt += \"\\n Enter 'quit' to end the program\"\n",
    "\n",
    "message = \"\"\n",
    "while message != 'quit':\n",
    "    message = input(prompt)\n",
    "    \n",
    "    if message != 'quit':\n",
    "        print(message)\n",
    "\n",
    "\n",
    "    "
   ]
  },
  {
   "cell_type": "code",
   "execution_count": 4,
   "metadata": {},
   "outputs": [
    {
     "name": "stdout",
     "output_type": "stream",
     "text": [
      "\n",
      " Tell me any thing that you want to tell\n",
      "Enter  'quit' to end the program.jju\n",
      "jju\n",
      "\n",
      " Tell me any thing that you want to tell\n",
      "Enter  'quit' to end the program.quit\n"
     ]
    }
   ],
   "source": [
    "# using the flag\n",
    "prompt = \"\\n Tell me any thing that you want to tell\"\n",
    "prompt += \"\\nEnter  'quit' to end the program.\"\n",
    "\n",
    "active = True\n",
    "while active:\n",
    "    message = input(prompt)\n",
    "    \n",
    "    if message =='quit':\n",
    "        active = False\n",
    "    else:\n",
    "        print(message)"
   ]
  },
  {
   "cell_type": "code",
   "execution_count": 8,
   "metadata": {},
   "outputs": [
    {
     "name": "stdout",
     "output_type": "stream",
     "text": [
      "enter any string that you want to print\n",
      " enter 'quit' to exit from the loop:Nepal\n",
      "I'd love to go Nepal!\n",
      "enter any string that you want to print\n",
      " enter 'quit' to exit from the loop:quite\n",
      "I'd love to go Quite!\n",
      "enter any string that you want to print\n",
      " enter 'quit' to exit from the loop:quit\n"
     ]
    }
   ],
   "source": [
    "# using break to break the loop\n",
    "prompt = \"enter any string that you want to print\"\n",
    "prompt += \"\\n enter 'quit' to exit from the loop:\"\n",
    "\n",
    "while True:\n",
    "    city = input(prompt)\n",
    "\n",
    "    if city =='quit':\n",
    "        break\n",
    "    else:\n",
    "        print(f\"I'd love to go {city.title()}!\")\n",
    "    \n",
    "\n"
   ]
  },
  {
   "cell_type": "code",
   "execution_count": 11,
   "metadata": {},
   "outputs": [
    {
     "name": "stdout",
     "output_type": "stream",
     "text": [
      "1\n",
      "3\n",
      "5\n",
      "7\n",
      "9\n"
     ]
    }
   ],
   "source": [
    "# using continue in loop\n",
    "current_num = 0\n",
    "while current_num < 10:\n",
    "    current_num += 1\n",
    "    if current_num % 2 == 0:\n",
    "        continue\n",
    "    print(current_num)"
   ]
  },
  {
   "cell_type": "code",
   "execution_count": 12,
   "metadata": {},
   "outputs": [
    {
     "name": "stdout",
     "output_type": "stream",
     "text": [
      "1\n",
      "2\n",
      "3\n",
      "4\n",
      "5\n"
     ]
    }
   ],
   "source": [
    "# avoiding infinite loop\n",
    "x = 1\n",
    "while x<=5:\n",
    "    print(x)\n",
    "    x+=1"
   ]
  },
  {
   "cell_type": "code",
   "execution_count": null,
   "metadata": {},
   "outputs": [],
   "source": []
  }
 ],
 "metadata": {
  "kernelspec": {
   "display_name": "Python 3",
   "language": "python",
   "name": "python3"
  },
  "language_info": {
   "codemirror_mode": {
    "name": "ipython",
    "version": 3
   },
   "file_extension": ".py",
   "mimetype": "text/x-python",
   "name": "python",
   "nbconvert_exporter": "python",
   "pygments_lexer": "ipython3",
   "version": "3.7.4"
  }
 },
 "nbformat": 4,
 "nbformat_minor": 2
}
